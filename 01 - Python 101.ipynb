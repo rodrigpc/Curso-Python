{
 "cells": [
  {
   "cell_type": "markdown",
   "metadata": {},
   "source": [
    "# **Curso Python 3 - 101**\n",
    "\n",
    "Parte deste notebook tem como referência o livro **Python para Desenvolvedores**, que pode ser encontrado [aqui.][1], e também o livro **\"Python para análise de dados: Tratamento de dados com Pandas, NumPy e IPython\"** [aqui.][2]\n",
    "\n",
    "\n",
    "## Origens\n",
    "Python *https://www.python.org/* é uma linguagem de programação de **alto nível, interpretada, de script, imperativa, orientada a objetos, funcional, de tipagem dinâmica e forte**. Foi lançada por Guido van Rossum em 1991. Atualmente possui um modelo de desenvolvimento comunitário, aberto e gerenciado pela organização sem fins lucrativos Python Software Foundation.\n",
    "\n",
    "Foi considerada pelo público a 3ª linguagem \"mais amada\", de acordo com uma pesquisa conduzida pelo site Stack Overflow em 2018, e está entre as 5 linguagens mais populares, de acordo com uma pesquisa conduzida pela RedMonk.\n",
    "\n",
    "O nome Python teve a sua origem no grupo humorístico britânico Monty Python, criador do programa Monty Python's Flying Circus, embora muitas pessoas façam associação com o réptil do mesmo nome (em português, píton ou pitão). *Fonte: Wikipedia*\n",
    "\n",
    "[1]:https://amzn.to/2xZbXRb\n",
    "[2]:https://amzn.to/2QFUow9\n",
    "\n",
    "![title](computer-languages.jpg)\n",
    "*https://www.tiobe.com/tiobe-index/*\n",
    "\n",
    "\n"
   ]
  },
  {
   "cell_type": "markdown",
   "metadata": {},
   "source": [
    "## Iniciando:\n",
    "## Identação é **MUITO IMPORTANTE**"
   ]
  },
  {
   "cell_type": "code",
   "execution_count": null,
   "metadata": {},
   "outputs": [],
   "source": [
    "listOfNumbers = [1, 2, 3, 4, 5, 6]\n",
    "\n",
    "for number in listOfNumbers:\n",
    "    if (number % 2 == 0):\n",
    "        print(number, \"é par\")\n",
    "    else:\n",
    "        print(number, \"é impar\")\n",
    "        \n",
    "print (\"Terminei.\")"
   ]
  },
  {
   "cell_type": "markdown",
   "metadata": {},
   "source": [
    "## Quebra de linhas"
   ]
  },
  {
   "cell_type": "code",
   "execution_count": null,
   "metadata": {},
   "outputs": [],
   "source": [
    "a = 7 * 3 + \\\n",
    "5 / 2\n",
    "print(a)\n"
   ]
  },
  {
   "cell_type": "markdown",
   "metadata": {},
   "source": [
    "## Objetos"
   ]
  },
  {
   "cell_type": "code",
   "execution_count": null,
   "metadata": {},
   "outputs": [],
   "source": [
    "print(a.is_integer())"
   ]
  },
  {
   "cell_type": "markdown",
   "metadata": {},
   "source": [
    "## Importando Módulos"
   ]
  },
  {
   "cell_type": "code",
   "execution_count": null,
   "metadata": {},
   "outputs": [],
   "source": [
    "import numpy as np\n",
    "\n",
    "A = np.random.normal(25.0, 5.0, 10)\n",
    "print (A)"
   ]
  },
  {
   "cell_type": "markdown",
   "metadata": {},
   "source": [
    "## Laços"
   ]
  },
  {
   "cell_type": "code",
   "execution_count": null,
   "metadata": {},
   "outputs": [],
   "source": [
    "for x in range(10):\n",
    "    print(x)\n",
    "\n"
   ]
  },
  {
   "cell_type": "code",
   "execution_count": null,
   "metadata": {},
   "outputs": [],
   "source": [
    "x = 0\n",
    "while (x < 8):\n",
    "    print(x)\n",
    "    x += 2"
   ]
  },
  {
   "cell_type": "markdown",
   "metadata": {},
   "source": [
    "## Funções Booleanas"
   ]
  },
  {
   "cell_type": "code",
   "execution_count": null,
   "metadata": {},
   "outputs": [],
   "source": [
    "print(1 == 3)"
   ]
  },
  {
   "cell_type": "code",
   "execution_count": null,
   "metadata": {},
   "outputs": [],
   "source": [
    "print(True or False)"
   ]
  },
  {
   "cell_type": "code",
   "execution_count": null,
   "metadata": {},
   "outputs": [],
   "source": [
    "print(1 is 3)"
   ]
  },
  {
   "cell_type": "code",
   "execution_count": null,
   "metadata": {},
   "outputs": [],
   "source": [
    "if 1 is 3:\n",
    "    print(\"Como isso aconteceu?\")\n",
    "elif 1 > 3:\n",
    "    print(\"Caramba!!\")\n",
    "else:\n",
    "    print(\"Tudo está bem com o mundo\")"
   ]
  },
  {
   "cell_type": "markdown",
   "metadata": {},
   "source": [
    "## Break e continue"
   ]
  },
  {
   "cell_type": "code",
   "execution_count": null,
   "metadata": {},
   "outputs": [],
   "source": [
    "for n in range(2, 10):\n",
    "     for x in range(2, n):\n",
    "         if n % x == 0:\n",
    "             print(n, 'é igual a', x, '*', n//x)\n",
    "             break\n",
    "     else:\n",
    "         # loop caiu sem encontrar um fator\n",
    "         print(n, 'é um número primo')"
   ]
  },
  {
   "cell_type": "code",
   "execution_count": null,
   "metadata": {},
   "outputs": [],
   "source": [
    "for num in range(2, 10):\n",
    "     if num % 2 == 0:\n",
    "         print(\"Encontrado um número par\", num)\n",
    "         continue\n",
    "     print(\"Encontrado um número\", num)"
   ]
  },
  {
   "cell_type": "markdown",
   "metadata": {},
   "source": [
    "## Listas"
   ]
  },
  {
   "cell_type": "code",
   "execution_count": null,
   "metadata": {},
   "outputs": [],
   "source": [
    "x = [1, 2, 3, 4, 5, 6, 7, 9]\n",
    "print(len(x))"
   ]
  },
  {
   "cell_type": "code",
   "execution_count": null,
   "metadata": {},
   "outputs": [],
   "source": [
    "x[:4]"
   ]
  },
  {
   "cell_type": "code",
   "execution_count": null,
   "metadata": {},
   "outputs": [],
   "source": [
    "x[3:]"
   ]
  },
  {
   "cell_type": "code",
   "execution_count": null,
   "metadata": {},
   "outputs": [],
   "source": [
    "x[-4:]"
   ]
  },
  {
   "cell_type": "code",
   "execution_count": null,
   "metadata": {},
   "outputs": [],
   "source": [
    "x.extend([7,8])\n",
    "x"
   ]
  },
  {
   "cell_type": "code",
   "execution_count": null,
   "metadata": {},
   "outputs": [],
   "source": [
    "x.append(9)\n",
    "x"
   ]
  },
  {
   "cell_type": "code",
   "execution_count": null,
   "metadata": {},
   "outputs": [],
   "source": [
    "y = [10, 11, \"N\"]\n",
    "listOfLists = [x, y]\n",
    "listOfLists"
   ]
  },
  {
   "cell_type": "code",
   "execution_count": null,
   "metadata": {},
   "outputs": [],
   "source": [
    "y[0]=8"
   ]
  },
  {
   "cell_type": "code",
   "execution_count": null,
   "metadata": {},
   "outputs": [],
   "source": [
    "z = [3, 2,4, 1,7, 9]\n",
    "z.sort()\n",
    "z"
   ]
  },
  {
   "cell_type": "code",
   "execution_count": null,
   "metadata": {},
   "outputs": [],
   "source": [
    "z.sort(reverse=True)\n",
    "z"
   ]
  },
  {
   "cell_type": "code",
   "execution_count": null,
   "metadata": {},
   "outputs": [],
   "source": [
    "# Uma nova lista: Brit Progs dos anos 70\n",
    "progs = ['Yes', 'Genesis', 'Pink Floyd', 'ELP']\n",
    "\n",
    "# Varrendo a lista inteira\n",
    "for prog in progs:\n",
    "    print(prog)\n",
    "\n",
    "# Trocando o último elemento\n",
    "progs[-1] = 'King Crimson'\n",
    "\n",
    "# Incluindo\n",
    "progs.append('Camel')\n",
    "\n",
    "# Removendo\n",
    "progs.remove('Pink Floyd')\n",
    "\n",
    "# Ordena a lista\n",
    "progs.sort()\n",
    "\n",
    "# Inverte a lista\n",
    "progs.reverse()\n",
    "\n",
    "# Imprime numerado\n",
    "for i, prog in enumerate(progs):\n",
    "    print(i + 1, '=>', prog)\n",
    "\n",
    "# Imprime do segundo item em diante\n",
    "print(progs[1:])"
   ]
  },
  {
   "cell_type": "markdown",
   "metadata": {},
   "source": [
    "## Tuplas"
   ]
  },
  {
   "cell_type": "code",
   "execution_count": null,
   "metadata": {},
   "outputs": [],
   "source": [
    "#Tuplas são como listas imutáveis. Use () ao invés de []\n",
    "x = (1, 2, 3)\n",
    "len(x)\n"
   ]
  },
  {
   "cell_type": "code",
   "execution_count": null,
   "metadata": {},
   "outputs": [],
   "source": [
    "y = (4, 7, 6)\n",
    "y[2]"
   ]
  },
  {
   "cell_type": "code",
   "execution_count": null,
   "metadata": {},
   "outputs": [],
   "source": [
    "listOfTuples = [x, y]\n",
    "listOfTuples"
   ]
  },
  {
   "cell_type": "code",
   "execution_count": null,
   "metadata": {},
   "outputs": [],
   "source": [
    "tup=(age, income) = \"32,120000\".split(',')\n",
    "print(age,income,tup)\n",
    "#print(income)\n",
    "#print(tup)"
   ]
  },
  {
   "cell_type": "markdown",
   "metadata": {},
   "source": [
    "## Dicionários"
   ]
  },
  {
   "cell_type": "code",
   "execution_count": null,
   "metadata": {},
   "outputs": [],
   "source": [
    "# São como um map ou hash table em outras linguagens. Use {}\n",
    "captains = {}\n",
    "captains[\"Enterprise\"] = \"Kirk\"\n",
    "captains[\"Enterprise D\"] = \"Picard\"\n",
    "captains[\"Deep Space Nine\"] = \"Sisko\"\n",
    "captains[\"Voyager\"] = \"Janeway\"\n",
    "\n",
    "print(captains[\"Enterprise\"])\n",
    "print(captains)"
   ]
  },
  {
   "cell_type": "code",
   "execution_count": null,
   "metadata": {},
   "outputs": [],
   "source": [
    "print(captains.get(\"Enterprise\"))"
   ]
  },
  {
   "cell_type": "code",
   "execution_count": null,
   "metadata": {},
   "outputs": [],
   "source": [
    "print(captains.get(\"NX-01\"))"
   ]
  },
  {
   "cell_type": "code",
   "execution_count": null,
   "metadata": {},
   "outputs": [],
   "source": [
    "for ship in captains:\n",
    "    print(ship + \": \" + captains[ship])"
   ]
  },
  {
   "cell_type": "code",
   "execution_count": null,
   "metadata": {},
   "outputs": [],
   "source": [
    "# Progs e seus albuns\n",
    "progs = {'Yes': ['Close To The Edge', 'Fragile'],\n",
    "    'Genesis': ['Foxtrot', 'The Nursery Crime'],\n",
    "    'ELP': ['Brain Salad Surgery']}\n",
    "\n",
    "# Mais progs\n",
    "progs['King Crimson'] = ['Red', 'Discipline']\n",
    "\n",
    "# items() retorna uma lista de\n",
    "# tuplas com a chave e o valor\n",
    "for prog, albuns in progs.items():\n",
    "    print(prog, '=>', albuns)\n",
    "\n",
    "# Se tiver 'ELP', deleta\n",
    "if 'ELP' in progs:\n",
    "    del progs['ELP']\n",
    "\n",
    "print('')\n",
    "print('##############################################')\n",
    "print('')      \n",
    "    \n",
    "for prog, albuns in progs.items():\n",
    "    print(prog, '=>', albuns)\n"
   ]
  },
  {
   "cell_type": "markdown",
   "metadata": {},
   "source": [
    "## Funções"
   ]
  },
  {
   "cell_type": "code",
   "execution_count": null,
   "metadata": {},
   "outputs": [],
   "source": [
    "def SquareIt(x):\n",
    "    \n",
    "    return x * x\n",
    "\n",
    "print(SquareIt(3))"
   ]
  },
  {
   "cell_type": "code",
   "execution_count": null,
   "metadata": {},
   "outputs": [],
   "source": [
    "#Você pode passar outras funções como parametros\n",
    "def DoSomething(f, x):\n",
    "    return f(x)\n",
    "\n",
    "print(DoSomething(SquareIt, 4))"
   ]
  },
  {
   "cell_type": "code",
   "execution_count": null,
   "metadata": {},
   "outputs": [],
   "source": [
    "def Lambda(valor):\n",
    "    x=valor*valor*valor\n",
    "    return x\n",
    "\n",
    "\n",
    "#As funções Lambda permitem incorporar funções simples\n",
    "print(DoSomething(lambda x: x * x * x, 3))\n",
    "# print(Lambda(3))"
   ]
  },
  {
   "cell_type": "code",
   "execution_count": null,
   "metadata": {},
   "outputs": [],
   "source": [
    "def fib(n):    # escrever séries de Fibonacci até n\n",
    "     \"\"\"Imprima uma série de Fibonacci até n.\"\"\"\n",
    "     a, b = 0, 1\n",
    "     while a < n:\n",
    "         print(a, end=' ')\n",
    "         a, b = b, a+b\n",
    "     print()\n",
    "\n",
    "# Agora chame a função que acabamos de definir:\n",
    "fib(2000)"
   ]
  },
  {
   "cell_type": "code",
   "execution_count": null,
   "metadata": {},
   "outputs": [],
   "source": [
    "def ask_ok(prompt, retries=4, reminder='De novo'):\n",
    "    while True:\n",
    "        ok = input(prompt)\n",
    "        if ok.lower() in ('s', 'sim', 'yes'):\n",
    "            return True\n",
    "        if ok.lower() in ('n', 'não', 'no'):\n",
    "            return False\n",
    "        retries = retries - 1\n",
    "        if retries < 0:\n",
    "            raise ValueError('resposta inválida')\n",
    "        print(reminder)\n",
    "\n",
    "ask_ok('Confirma?',7,'Tente novamente!')\n",
    "#ask_ok('Confirma?')"
   ]
  },
  {
   "cell_type": "code",
   "execution_count": null,
   "metadata": {},
   "outputs": [],
   "source": [
    "i = 5\n",
    "\n",
    "def f(arg=i):\n",
    "    print(arg)\n",
    "\n",
    "i = 6\n",
    "f()"
   ]
  },
  {
   "cell_type": "markdown",
   "metadata": {},
   "source": [
    "## Observações:\n",
    "\n",
    "- Os argumentos com padrão devem vir por último, depois dos argumentos sem padrão.<br>\n",
    "- O valor do padrão para um parâmetro é calculado quando a função é definida.<br>\n",
    "- Os argumentos passados sem identificador são recebidos pela função na forma de uma lista.<br>\n",
    "- Os argumentos passados com identificador são recebidos pela função na forma de um dicionário.<br>\n",
    "- Os parâmetros passados com identificador na chamada da função devem vir no fim da lista de parâmetros.<br>\n",
    "\n",
    "Exemplo de como receber todos parâmetros:"
   ]
  },
  {
   "cell_type": "code",
   "execution_count": null,
   "metadata": {},
   "outputs": [],
   "source": [
    "# **kargs - argumentos com nome (dicionário)\n",
    "\n",
    "def func(*args, **kargs):\n",
    "    print(args)\n",
    "    print(kargs)\n",
    "\n",
    "func('peso', 10, unidade='k', preco=10.0)"
   ]
  },
  {
   "cell_type": "markdown",
   "metadata": {},
   "source": [
    "No exemplo, `kargs` receberá os argumentos nomeados e `args` receberá os outros."
   ]
  },
  {
   "cell_type": "markdown",
   "metadata": {},
   "source": [
    "## Strings"
   ]
  },
  {
   "cell_type": "code",
   "execution_count": null,
   "metadata": {},
   "outputs": [],
   "source": [
    "s = 'Led Zeppelin'\n",
    "u = \"Björk\"\n",
    "print(s,u)"
   ]
  },
  {
   "cell_type": "code",
   "execution_count": null,
   "metadata": {},
   "outputs": [],
   "source": [
    "s = \"Camelo\"\n",
    "\n",
    "# Concatenação\n",
    "print('O '+s+' fugiu!')\n",
    "\n",
    "# Interpolação\n",
    "print('tamanho de %s => %d' % (s, len(s)))\n",
    "\n",
    "# String tratada como sequência\n",
    "for ch in s: print(ch)\n",
    "\n",
    "# Strings são objetos\n",
    "if s.startswith('C'): print(s.upper())\n",
    "\n",
    "# o que acontecerá?\n",
    "print(3 * s)\n",
    "# 3 * s é consistente com s + s + s"
   ]
  },
  {
   "cell_type": "markdown",
   "metadata": {},
   "source": [
    "## Símbolos usados na interpolação:\n",
    "\n",
    "- %s: string.<br>\n",
    "- %d: inteiro.<br>\n",
    "- %o: octal.<br>\n",
    "- %x: hexacimal.<br>\n",
    "- %f: real.<br>\n",
    "- %e: real exponencial.<br>\n",
    "- %%: sinal de percentagem."
   ]
  },
  {
   "cell_type": "code",
   "execution_count": null,
   "metadata": {},
   "outputs": [],
   "source": [
    "# Zeros a esquerda\n",
    "print('Agora são %02d:%02d.' % (16, 30))\n",
    "\n",
    "# Real (número após o ponto controla as casas decimais)\n",
    "print('Percentagem: %.1f%%, Exponencial:%.2e' % (5.333, 0.00314))\n",
    "\n",
    "# Octal e hexadecimal\n",
    "print('Decimal: %d, Octal: %o, Hexadecimal: %x' % (10, 10, 10))"
   ]
  },
  {
   "cell_type": "markdown",
   "metadata": {},
   "source": [
    "## Exercícios\n",
    "Escreva um código que crie uma lista de números inteiros, faça um loop em cada elemento da lista e imprima apenas números pares!"
   ]
  },
  {
   "cell_type": "code",
   "execution_count": null,
   "metadata": {},
   "outputs": [],
   "source": [
    "x = [1,2,3,4,5,6,7,8,9,10,11,12,13,14]\n",
    "for num in x:\n",
    "     if num % 2 == 0:\n",
    "         print(\"Encontrado um número par\", num)\n",
    "         \n",
    "     "
   ]
  },
  {
   "cell_type": "markdown",
   "metadata": {},
   "source": [
    "Implementar duas funções:\n",
    "\n",
    "+ Uma que converta temperatura em graus *Celsius* para *Fahrenheit*.\n",
    "+ Outra que converta temperatura em graus *Fahrenheit* para *Celsius*.\n",
    "\n",
    "Lembrando que:\n",
    "\n",
    "$F = \\frac{9}{5} \\cdot C + 32$"
   ]
  },
  {
   "cell_type": "code",
   "execution_count": null,
   "metadata": {},
   "outputs": [],
   "source": [
    "def toF(temp):\n",
    "    return int(round(((9 * temp) / 5 + 32),2))\n",
    "\n",
    "def toC(temp):\n",
    "    return  int(round(((temp - 32) * 5 / 9),2))\n",
    "\n",
    "print(toF(55))\n",
    "\n",
    "print(toC(55))"
   ]
  },
  {
   "cell_type": "markdown",
   "metadata": {},
   "source": [
    "Implementar uma função que retorne verdadeiro se o número for primo (falso caso contrário). Testar de 1 a 100."
   ]
  },
  {
   "cell_type": "code",
   "execution_count": null,
   "metadata": {},
   "outputs": [],
   "source": [
    "def eh_primo(n):\n",
    "    if n <2:\n",
    "        return False\n",
    "    for i in range(2,n):\n",
    "        if not n % i:\n",
    "            return False\n",
    "    else:\n",
    "        return True\n",
    "    \n",
    "for x in range(1,101): \n",
    "    if eh_primo(x) or x==1:\n",
    "        print('Verdadeiro ',x, 'é primo')\n",
    "    else:\n",
    "        print('Falso ',x, 'não é primo')"
   ]
  },
  {
   "cell_type": "markdown",
   "metadata": {},
   "source": [
    "Implementar uma função que receba uma lista de listas de comprimentos quaisquer e retorne uma lista de uma dimensão."
   ]
  },
  {
   "cell_type": "code",
   "execution_count": null,
   "metadata": {},
   "outputs": [],
   "source": [
    "l = [[1,3,4],[3,7,'teste'],[9,4,1],['nove','dez','onze']]\n",
    "flat_list = []\n",
    "for sublist in l:\n",
    "    for item in sublist:\n",
    "        flat_list.append(item)\n",
    "print(flat_list)        "
   ]
  },
  {
   "cell_type": "markdown",
   "metadata": {},
   "source": [
    "Implementar uma função que receba um dicionário e retorne a soma, a média e a variação dos valores."
   ]
  },
  {
   "cell_type": "code",
   "execution_count": null,
   "metadata": {},
   "outputs": [],
   "source": [
    "def stat(dic):\n",
    "    s = sum(dic.values())\n",
    "    med = s / len(dic.values())\n",
    "    var = max(dic.values()) - min(dic.values())\n",
    "    return s, med, var\n",
    "#d = {'ch1':1,'ch2':2,'ch3':3}\n",
    "d = {chr(v): v for v in range (32,71)}\n",
    "print(d)\n",
    "print(stat(d))"
   ]
  },
  {
   "cell_type": "markdown",
   "metadata": {},
   "source": [
    "Escreva uma função que:\n",
    "\n",
    "+ Receba uma frase como parâmetro.\n",
    "+ Retorne uma nova frase com cada palavra com as letras invertidas."
   ]
  },
  {
   "cell_type": "code",
   "execution_count": null,
   "metadata": {},
   "outputs": [],
   "source": [
    "def reverso(t):\n",
    "    return ' '.join(s[::-1] for s in t.split())\n",
    "\n",
    "#f = 'Esta é minha frase de teste'\n",
    "print(reverso('Esta é minha frase de teste'))\n"
   ]
  },
  {
   "cell_type": "markdown",
   "metadata": {},
   "source": [
    "Crie uma função que:\n",
    "\n",
    "+ Receba uma lista de tuplas (dados), um inteiro (chave, zero por padrão) e um booleano (reverso, falso por padrão).\n",
    "+ Retorne dados ordenados pelo item indicado pela chave e em ordem decrescente se reverso for verdadeiro."
   ]
  },
  {
   "cell_type": "code",
   "execution_count": null,
   "metadata": {},
   "outputs": [],
   "source": [
    "def ord_tab(dados, chave=0, reverso=False):\n",
    "    # comparar as tuplas em sort()\n",
    "    def key(x):\n",
    "        return x[chave]\n",
    "    \n",
    "    dados.sort(key=key, reverse=reverso)\n",
    "    return dados\n",
    "\n",
    "t=[(1,2,0),(3,1,5),(0,3,3)]\n",
    "print(ord_tab(t))\n",
    "print(ord_tab(t,1))\n",
    "print(ord_tab(t,2,True))"
   ]
  },
  {
   "cell_type": "code",
   "execution_count": null,
   "metadata": {},
   "outputs": [],
   "source": []
  }
 ],
 "metadata": {
  "kernelspec": {
   "display_name": "Python 3",
   "language": "python",
   "name": "python3"
  },
  "language_info": {
   "codemirror_mode": {
    "name": "ipython",
    "version": 3
   },
   "file_extension": ".py",
   "mimetype": "text/x-python",
   "name": "python",
   "nbconvert_exporter": "python",
   "pygments_lexer": "ipython3",
   "version": "3.7.3"
  }
 },
 "nbformat": 4,
 "nbformat_minor": 4
}
