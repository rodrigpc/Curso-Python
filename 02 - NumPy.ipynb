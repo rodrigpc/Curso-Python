{
 "cells": [
  {
   "cell_type": "markdown",
   "metadata": {},
   "source": [
    "## NumPy em 50 células de notebook Júpiter\n",
    "adaptado do trabalho de Numan Yilmaz, 10 May 2017\n",
    "Originalmente postado [aqui.][1].\n",
    "Uma execlente referência mais aprofundada pode se encontrada [aqui.][2], que além do NumPy cobre Pandas, matplotlib, seaborn, SciPy e scikit-learn.\n",
    "\n",
    "Este tutorial consiste nas seguintes partes:\n",
    "\n",
    " - O que é o NumPy?\n",
    " - Como criar matrizes NumPy\n",
    " - Indexação, Indexação Mascarada\n",
    " - Fatiamento\n",
    " - Funções universais (ufuncs)\n",
    " - Transmissão\n",
    " - Mascaramento, classificação e comparação\n",
    " - Aprendizagem adicional\n",
    " \n",
    " [1]:https://datascientistnotebook.com/2017/04/01/numpy-in-50-cells-of-notebook/\n",
    " [2]:https://amzn.to/3dpy97a"
   ]
  },
  {
   "cell_type": "markdown",
   "metadata": {},
   "source": [
    "### 1- O que é o array NumPy?\n",
    "O NumPy (https://numpy.org/) é a base do Pandas e de muitos outros pacotes. O que torna o NumPy um pacote tão incrível é o seu tipo de dados (ndarray). ndarray significa array n-dimensional, que basicamente se parece com uma lista Python. No entanto, é muito mais rápido que uma lista Python comum. Uma lista Python pode conter tipos diferentes de tipos de dados, como números inteiros, seqüências de caracteres, booleano, verdadeiro, falso e até listas. Por outro lado, as matrizes NumPy podem conter apenas um tipo de dados e, portanto, não precisam verificar o tipo de dados para cada elemento único da matriz quando estão fazendo os cálculos. Esse recurso faz do NumPy uma ótima ferramenta para pesquisas e projetos de ciência de dados.\n",
    "\n",
    "Antes de começarmos, vamos verificar a versão do NumPy e Python."
   ]
  },
  {
   "cell_type": "code",
   "execution_count": null,
   "metadata": {},
   "outputs": [],
   "source": [
    "# import numpy\n",
    "import numpy as np\n",
    "\n",
    "# sys foi importado para verificar a versão do python\n",
    "import sys \n",
    "\n",
    "# verificando a versão do python e numpy\n",
    "print('NumPy version:', np.__version__)\n",
    "print('Python version',sys.version)"
   ]
  },
  {
   "cell_type": "markdown",
   "metadata": {},
   "source": [
    "### 2- Como criar matrizes NumPy"
   ]
  },
  {
   "cell_type": "markdown",
   "metadata": {},
   "source": [
    "Existem várias maneiras de criar matrizes no NumPy. Vamos dar uma olhada em alguns deles aqui."
   ]
  },
  {
   "cell_type": "code",
   "execution_count": null,
   "metadata": {},
   "outputs": [],
   "source": [
    "# criar uma matriz numpy unidimensional\n",
    "a=[1,2,3]\n",
    "#np.array([1, 2, 3])\n",
    "np.array(a)"
   ]
  },
  {
   "cell_type": "code",
   "execution_count": null,
   "metadata": {},
   "outputs": [],
   "source": [
    "# Matriz de zeros\n",
    "np.zeros(3)"
   ]
  },
  {
   "cell_type": "code",
   "execution_count": null,
   "metadata": {},
   "outputs": [],
   "source": [
    "# Matriz de 1s\n",
    "np.ones(3)"
   ]
  },
  {
   "cell_type": "code",
   "execution_count": null,
   "metadata": {},
   "outputs": [],
   "source": [
    "# matriz de 3 números inteiros aleatórios entre 1 e 10\n",
    "np.random.randint(1,10, 3)"
   ]
  },
  {
   "cell_type": "code",
   "execution_count": null,
   "metadata": {},
   "outputs": [],
   "source": [
    "np.random.randint(50,80,10)"
   ]
  },
  {
   "cell_type": "code",
   "execution_count": null,
   "metadata": {},
   "outputs": [],
   "source": [
    "# criar matriz espaçada linearmente. \n",
    "np.linspace(0, 10, 5 )"
   ]
  },
  {
   "cell_type": "code",
   "execution_count": null,
   "metadata": {},
   "outputs": [],
   "source": [
    "# criar matriz bidimensional\n",
    "np.array([[1,2,3],\n",
    "         [4,5,6],\n",
    "         [7,8,9]])"
   ]
  },
  {
   "cell_type": "code",
   "execution_count": null,
   "metadata": {},
   "outputs": [],
   "source": [
    "# criar valores de matriz 3x4 entre 0 e 1\n",
    "np.random.random((3,4))"
   ]
  },
  {
   "cell_type": "code",
   "execution_count": null,
   "metadata": {
    "scrolled": true
   },
   "outputs": [],
   "source": [
    "# criar matrizes a (1D) e b(2D)\n",
    "a = np.array([1,2,3])\n",
    "b = np.random.randint(0,10, (3,3))\n",
    "\n",
    "print(a)\n",
    "print(b)"
   ]
  },
  {
   "cell_type": "code",
   "execution_count": null,
   "metadata": {},
   "outputs": [],
   "source": [
    "# adicionando valores \n",
    "a = np.append(a, 4)\n",
    "a"
   ]
  },
  {
   "cell_type": "code",
   "execution_count": null,
   "metadata": {},
   "outputs": [],
   "source": [
    "# imprimir a forma e a dimensão das matrizes\n",
    "print(\"Forma de a:\", np.shape(a))\n",
    "print(\"Forma de b:\", np.shape(b))\n",
    "\n",
    "print('Dimensão de a:', np.ndim(a))\n",
    "print('Dimensão de b:', np.ndim(b))"
   ]
  },
  {
   "cell_type": "code",
   "execution_count": null,
   "metadata": {},
   "outputs": [],
   "source": [
    "# número de elementos nas matrizes\n",
    "print('Número de elementos em a:', np.size(a))\n",
    "print('Número de elementos em b:', np.size(b))"
   ]
  },
  {
   "cell_type": "markdown",
   "metadata": {},
   "source": [
    "### Indexação e indexação mascarada"
   ]
  },
  {
   "cell_type": "code",
   "execution_count": null,
   "metadata": {},
   "outputs": [],
   "source": [
    "# a é uma matriz 1D, criamos antes\n",
    "a"
   ]
  },
  {
   "cell_type": "code",
   "execution_count": null,
   "metadata": {},
   "outputs": [],
   "source": [
    "# b é uma matriz 2D criada em uma célula anterior\n",
    "b"
   ]
  },
  {
   "cell_type": "code",
   "execution_count": null,
   "metadata": {},
   "outputs": [],
   "source": [
    "# obter o primeiro elemento de a \n",
    "# essas duas instruções de impressão resultam o mesmo\n",
    "print(a[0])\n",
    "print(a[-4])"
   ]
  },
  {
   "cell_type": "code",
   "execution_count": null,
   "metadata": {},
   "outputs": [],
   "source": [
    "# obter o último elemento de a\n",
    "# essas duas instruções de impressão resultam o mesmo\n",
    "print(a[-1])\n",
    "print(a[3])"
   ]
  },
  {
   "cell_type": "code",
   "execution_count": null,
   "metadata": {},
   "outputs": [],
   "source": [
    "# obter a primeira linha de b\n",
    "# essas duas instruções de impressão resultam o mesmo\n",
    "print(b[0]) \n",
    "print(b[0,:])"
   ]
  },
  {
   "cell_type": "code",
   "execution_count": null,
   "metadata": {},
   "outputs": [],
   "source": [
    "# obter a segunda coluna de b\n",
    "b[:,1]"
   ]
  },
  {
   "cell_type": "code",
   "execution_count": null,
   "metadata": {},
   "outputs": [],
   "source": [
    "# para entender melhor a indexação mascarada. criaremos 2 novas matrizes.\n",
    "x = np.array(['a', 'b', 'c'])\n",
    "y = np.array([['d','e','f'], \n",
    "              ['g', 'h', 'k']])\n",
    "\n",
    "print(x)\n",
    "print(y)"
   ]
  },
  {
   "cell_type": "code",
   "execution_count": null,
   "metadata": {},
   "outputs": [],
   "source": [
    "# indexação mascarada na matriz 1D\n",
    "# obtém o valor de c na matriz x\n",
    "ind = [2]\n",
    "x[ind]"
   ]
  },
  {
   "cell_type": "code",
   "execution_count": null,
   "metadata": {},
   "outputs": [],
   "source": [
    "# indexação mascarada em array 2D\n",
    "# obtém os valores e, h na matriz y\n",
    "ind2 = [[0,1],[1]]\n",
    "y[tuple(ind2)] # ao invés de y[ind2] que vai ser descontinuado\n",
    "#y[ind2]"
   ]
  },
  {
   "cell_type": "markdown",
   "metadata": {},
   "source": [
    "### 4- Fatiando\n",
    "###### use: para cortar"
   ]
  },
  {
   "cell_type": "code",
   "execution_count": null,
   "metadata": {},
   "outputs": [],
   "source": [
    "# crie uma matrizum de números inteiros de matriz de 1 a 10\n",
    "X = np.arange(1, 11, dtype=int)\n",
    "X"
   ]
  },
  {
   "cell_type": "code",
   "execution_count": null,
   "metadata": {},
   "outputs": [],
   "source": [
    "# obtenha os dois primeiros elementos de X\n",
    "X[:2]"
   ]
  },
  {
   "cell_type": "code",
   "execution_count": null,
   "metadata": {},
   "outputs": [],
   "source": [
    "# obter o número 3,4 e 5\n",
    "X[2:5]"
   ]
  },
  {
   "cell_type": "code",
   "execution_count": null,
   "metadata": {},
   "outputs": [],
   "source": [
    "# obter os números ímpares\n",
    "X[::2]"
   ]
  },
  {
   "cell_type": "code",
   "execution_count": null,
   "metadata": {},
   "outputs": [],
   "source": [
    "# obtenha os números pares\n",
    "X[1::2]"
   ]
  },
  {
   "cell_type": "code",
   "execution_count": null,
   "metadata": {},
   "outputs": [],
   "source": [
    "# criar matriz 2D\n",
    "Y= np.arange(1,10).reshape(3,3)\n",
    "Y"
   ]
  },
  {
   "cell_type": "code",
   "execution_count": null,
   "metadata": {},
   "outputs": [],
   "source": [
    "# pegue a primeira e a segunda linha\n",
    "Y[:2,:]"
   ]
  },
  {
   "cell_type": "code",
   "execution_count": null,
   "metadata": {},
   "outputs": [],
   "source": [
    "# obter a segunda e terceira coluna\n",
    "Y[:, 1:]"
   ]
  },
  {
   "cell_type": "code",
   "execution_count": null,
   "metadata": {},
   "outputs": [],
   "source": [
    "# obter o elemento de 5 e 6\n",
    "Y[1,1:]"
   ]
  },
  {
   "cell_type": "markdown",
   "metadata": {},
   "source": [
    "### 5- Funções universais (ufuncs)\n",
    "\n",
    "##### pressione TAB após np. para ver a lista de ufuncs disponíveis. np. {TAB}"
   ]
  },
  {
   "cell_type": "markdown",
   "metadata": {},
   "source": [
    "Permitir computação rápida em matrizes NumPy."
   ]
  },
  {
   "cell_type": "code",
   "execution_count": null,
   "metadata": {},
   "outputs": [],
   "source": [
    "# use a mesma matriz que criamos anteriormente\n",
    "X"
   ]
  },
  {
   "cell_type": "code",
   "execution_count": null,
   "metadata": {},
   "outputs": [],
   "source": [
    "# encontre o elemento máximo de X\n",
    "np.max(X)"
   ]
  },
  {
   "cell_type": "code",
   "execution_count": null,
   "metadata": {},
   "outputs": [],
   "source": [
    "# média de valores no array X\n",
    "np.mean(X)"
   ]
  },
  {
   "cell_type": "code",
   "execution_count": null,
   "metadata": {},
   "outputs": [],
   "source": [
    "# obter a quarta potência de cada valor\n",
    "np.power(X, 4)"
   ]
  },
  {
   "cell_type": "code",
   "execution_count": null,
   "metadata": {},
   "outputs": [],
   "source": [
    "# funções trigonométricas\n",
    "print(np.sin(X))\n",
    "print(np.cos(X))\n",
    "print(np.sin(X)/np.cos(X))\n",
    "print(np.tan(X))"
   ]
  },
  {
   "cell_type": "code",
   "execution_count": null,
   "metadata": {},
   "outputs": [],
   "source": [
    "# x2 + y2 = 1\n",
    "np.square(np.sin(X)) + np.square(np.cos(X))"
   ]
  },
  {
   "cell_type": "code",
   "execution_count": null,
   "metadata": {},
   "outputs": [],
   "source": [
    "# mesmas regras se aplicam à matriz 2D\n",
    "Y"
   ]
  },
  {
   "cell_type": "code",
   "execution_count": null,
   "metadata": {},
   "outputs": [],
   "source": [
    "np.multiply(Y, 2)"
   ]
  },
  {
   "cell_type": "code",
   "execution_count": null,
   "metadata": {},
   "outputs": [],
   "source": [
    "# dividir Y em 3 subarrays\n",
    "np.split(Y, 3)"
   ]
  },
  {
   "cell_type": "markdown",
   "metadata": {},
   "source": [
    "### 6- Broadcasting"
   ]
  },
  {
   "cell_type": "markdown",
   "metadata": {},
   "source": [
    " Broadcasting é poder usar ufuncs e muitas outras operações em diferentes tamanhos de matrizes"
   ]
  },
  {
   "cell_type": "code",
   "execution_count": null,
   "metadata": {},
   "outputs": [],
   "source": [
    "X=np.array([ 1,  2,  3,  4,  5,  6,  7,  8,  9, 10])"
   ]
  },
  {
   "cell_type": "code",
   "execution_count": null,
   "metadata": {},
   "outputs": [],
   "source": [
    "# adicione 5 a cada elemento\n",
    "X + 5"
   ]
  },
  {
   "cell_type": "code",
   "execution_count": null,
   "metadata": {},
   "outputs": [],
   "source": [
    "# ou \n",
    "np.add(X, 5)"
   ]
  },
  {
   "cell_type": "code",
   "execution_count": null,
   "metadata": {},
   "outputs": [],
   "source": [
    "# criar nova matriz Z\n",
    "Z = np.arange(3)[:, np.newaxis]\n",
    "Z"
   ]
  },
  {
   "cell_type": "code",
   "execution_count": null,
   "metadata": {},
   "outputs": [],
   "source": [
    "# multiplicar Y e Z\n",
    "np.multiply(Y, Z)"
   ]
  },
  {
   "cell_type": "markdown",
   "metadata": {},
   "source": [
    "### 7- Classificação, Comparação e Mascaramento"
   ]
  },
  {
   "cell_type": "code",
   "execution_count": null,
   "metadata": {},
   "outputs": [],
   "source": [
    "# crie uma matriz de 10 elementos entre 1 e 5\n",
    "x = np.random.randint(1,5, 10)\n",
    "x"
   ]
  },
  {
   "cell_type": "code",
   "execution_count": null,
   "metadata": {},
   "outputs": [],
   "source": [
    "# criar matriz (3,3) com elementos entre 1 e 5\n",
    "y = np.random.randint(1,5, (3,3))\n",
    "y"
   ]
  },
  {
   "cell_type": "code",
   "execution_count": null,
   "metadata": {},
   "outputs": [],
   "source": [
    "# ordenar elementos da matriz x\n",
    "np.sort(x)"
   ]
  },
  {
   "cell_type": "code",
   "execution_count": null,
   "metadata": {},
   "outputs": [],
   "source": [
    "# classificar valores ao longo das linhas\n",
    "np.sort(y, axis=0)"
   ]
  },
  {
   "cell_type": "code",
   "execution_count": null,
   "metadata": {},
   "outputs": [],
   "source": [
    "# classificar valores ao longo das colunas\n",
    "np.sort(y, axis=1)"
   ]
  },
  {
   "cell_type": "code",
   "execution_count": null,
   "metadata": {},
   "outputs": [],
   "source": [
    "# operações == , !=, < , >, >=, <= em matrizes\n",
    "# isso retorna um boolean\n",
    "x > 3"
   ]
  },
  {
   "cell_type": "code",
   "execution_count": null,
   "metadata": {},
   "outputs": [],
   "source": [
    "# use o recurso de mascaramento para obter os valores das comparações\n",
    "x[x>3]"
   ]
  },
  {
   "cell_type": "code",
   "execution_count": null,
   "metadata": {},
   "outputs": [],
   "source": [
    "# outro exemplo\n",
    "x[(x <= 3) & (x>1)]"
   ]
  },
  {
   "cell_type": "markdown",
   "metadata": {},
   "source": [
    "## Exercícios\n",
    "\n",
    "Substitua todos os números ímpares em arr por -1. "
   ]
  },
  {
   "cell_type": "code",
   "execution_count": null,
   "metadata": {},
   "outputs": [],
   "source": [
    "# Input\n",
    "arr = np.array([0, 1, 2, 3, 4, 5, 6, 7, 8, 9])\n",
    "arr\n",
    "\n",
    "#arr[1::2] = -1\n",
    "#arr\n",
    "\n",
    "arr[arr % 2 == 1] = -1\n",
    "arr"
   ]
  },
  {
   "cell_type": "markdown",
   "metadata": {},
   "source": [
    "Empilhe os arrays `a` e `b` verticalmente"
   ]
  },
  {
   "cell_type": "code",
   "execution_count": null,
   "metadata": {},
   "outputs": [],
   "source": [
    "# Input\n",
    "a = np.arange(10).reshape(2,-1)\n",
    "b = np.repeat(1, 10).reshape(2,-1)\n",
    "\n",
    "print(a,\"\\n\\n\",b)\n",
    "\n",
    "# Método 1:\n",
    "# np.concatenate([a, b], axis=0)\n",
    "\n",
    "# Método 2:\n",
    "np.vstack([a, b])\n",
    "\n",
    "# Método 3:\n",
    "#np.r_[a, b]"
   ]
  },
  {
   "cell_type": "markdown",
   "metadata": {},
   "source": [
    "Obter os itens comuns entre `a` e `b`"
   ]
  },
  {
   "cell_type": "code",
   "execution_count": null,
   "metadata": {},
   "outputs": [],
   "source": [
    "# Input\n",
    "a = np.array([1,2,3,2,3,4,3,4,5,6])\n",
    "b = np.array([7,2,10,2,7,4,9,4,9,8])\n",
    "\n",
    "np.intersect1d(a,b)"
   ]
  },
  {
   "cell_type": "markdown",
   "metadata": {},
   "source": [
    "Obtenha as posições em que os elementos de `a` e `b` correspondem"
   ]
  },
  {
   "cell_type": "code",
   "execution_count": null,
   "metadata": {},
   "outputs": [],
   "source": [
    "np.where(a == b)"
   ]
  },
  {
   "cell_type": "markdown",
   "metadata": {},
   "source": [
    "Substitua todas as ocorrências de `nan` por 0 na matriz"
   ]
  },
  {
   "cell_type": "code",
   "execution_count": null,
   "metadata": {},
   "outputs": [],
   "source": [
    "# Input\n",
    "arq = 'IRIS.csv'\n",
    "iris_2d = np.genfromtxt(arq, delimiter=',', dtype='float', usecols=[0,1,2,3])\n",
    "iris_2d[np.random.randint(150, size=20), np.random.randint(4, size=20)] = np.nan\n",
    "iris_2d\n",
    "\n",
    "iris_2d[np.isnan(iris_2d)] = 0\n",
    "iris_2d[:4]"
   ]
  },
  {
   "cell_type": "code",
   "execution_count": null,
   "metadata": {},
   "outputs": [],
   "source": []
  }
 ],
 "metadata": {
  "kernelspec": {
   "display_name": "Python 3",
   "language": "python",
   "name": "python3"
  },
  "language_info": {
   "codemirror_mode": {
    "name": "ipython",
    "version": 3
   },
   "file_extension": ".py",
   "mimetype": "text/x-python",
   "name": "python",
   "nbconvert_exporter": "python",
   "pygments_lexer": "ipython3",
   "version": "3.7.3"
  }
 },
 "nbformat": 4,
 "nbformat_minor": 2
}
